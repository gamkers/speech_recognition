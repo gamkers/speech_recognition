{
 "cells": [
  {
   "cell_type": "code",
   "execution_count": 9,
   "id": "35338722",
   "metadata": {},
   "outputs": [],
   "source": [
    "import speech_recognition as sr\n",
    "import pyttsx3\n",
    "from pyttsx3 import Engine\n",
    "listener = sr.Recognizer()\n",
    "engine: Engine = pyttsx3.init('sapi5')\n",
    "voices = engine.getProperty('voices')\n",
    "engine.setProperty('voice', voices[0].id)\n",
    "engine.setProperty('rate', 171)\n",
    "engine.setProperty('volume', 150)"
   ]
  },
  {
   "cell_type": "code",
   "execution_count": 10,
   "id": "0624fd6f",
   "metadata": {},
   "outputs": [],
   "source": [
    "def take_command():\n",
    "    try:\n",
    "        with sr.Microphone() as source:\n",
    "            print('listening...')\n",
    "            voice = listener.listen(source)\n",
    "            commands = listener.recognize_google(voice)\n",
    "            listener.pause_threshold = 1\n",
    "            commands = commands.lower()\n",
    "\n",
    "            if 'genesis' in commands:\n",
    "                commands = commands.replace('genesis', '')\n",
    "                print(commands)\n",
    "    except:\n",
    "        return \"\"\n",
    "    return commands"
   ]
  },
  {
   "cell_type": "code",
   "execution_count": 11,
   "id": "36cb0dd1",
   "metadata": {},
   "outputs": [
    {
     "name": "stdout",
     "output_type": "stream",
     "text": [
      "listening...\n"
     ]
    }
   ],
   "source": [
    "text = take_command()"
   ]
  },
  {
   "cell_type": "code",
   "execution_count": 12,
   "id": "4f3b9f82",
   "metadata": {},
   "outputs": [
    {
     "name": "stdout",
     "output_type": "stream",
     "text": [
      "\n"
     ]
    }
   ],
   "source": [
    "print(text)"
   ]
  },
  {
   "cell_type": "code",
   "execution_count": null,
   "id": "72fac22d",
   "metadata": {},
   "outputs": [],
   "source": []
  }
 ],
 "metadata": {
  "kernelspec": {
   "display_name": "Python 3",
   "language": "python",
   "name": "python3"
  },
  "language_info": {
   "codemirror_mode": {
    "name": "ipython",
    "version": 3
   },
   "file_extension": ".py",
   "mimetype": "text/x-python",
   "name": "python",
   "nbconvert_exporter": "python",
   "pygments_lexer": "ipython3",
   "version": "3.8.8"
  }
 },
 "nbformat": 4,
 "nbformat_minor": 5
}
