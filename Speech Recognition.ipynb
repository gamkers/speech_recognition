{
 "cells": [
  {
   "cell_type": "code",
   "execution_count": 2,
   "id": "d54019e9",
   "metadata": {},
   "outputs": [],
   "source": [
    "import speech_recognition as sr"
   ]
  },
  {
   "cell_type": "code",
   "execution_count": 3,
   "id": "2cb61382",
   "metadata": {},
   "outputs": [],
   "source": [
    "def take_command():\n",
    "    try:\n",
    "        with sr.Microphone() as source:\n",
    "            print('listening...')\n",
    "            voice = listener.listen(source)\n",
    "            commands = listener.recognize_google(voice)\n",
    "            listener.pause_threshold = 1\n",
    "            commands = commands.lower()\n",
    "\n",
    "            if 'genesis' in commands:\n",
    "                commands = commands.replace('genesis', '')\n",
    "                print(commands)\n",
    "    except:\n",
    "        return \"\"\n",
    "    return commands"
   ]
  },
  {
   "cell_type": "code",
   "execution_count": 4,
   "id": "fcff4f84",
   "metadata": {},
   "outputs": [
    {
     "name": "stdout",
     "output_type": "stream",
     "text": [
      "listening...\n"
     ]
    }
   ],
   "source": [
    "text = take_command()"
   ]
  },
  {
   "cell_type": "code",
   "execution_count": null,
   "id": "bdc383ea",
   "metadata": {},
   "outputs": [],
   "source": [
    "print(text)"
   ]
  }
 ],
 "metadata": {
  "kernelspec": {
   "display_name": "Python 3",
   "language": "python",
   "name": "python3"
  },
  "language_info": {
   "codemirror_mode": {
    "name": "ipython",
    "version": 3
   },
   "file_extension": ".py",
   "mimetype": "text/x-python",
   "name": "python",
   "nbconvert_exporter": "python",
   "pygments_lexer": "ipython3",
   "version": "3.8.8"
  }
 },
 "nbformat": 4,
 "nbformat_minor": 5
}
